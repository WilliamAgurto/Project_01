{
 "cells": [
  {
   "cell_type": "code",
   "execution_count": 1,
   "metadata": {},
   "outputs": [],
   "source": [
    "#importing libraries\n",
    "import numpy as np\n",
    "import pandas as pd"
   ]
  },
  {
   "cell_type": "code",
   "execution_count": 2,
   "metadata": {},
   "outputs": [],
   "source": [
    "#Loading Data\n",
    "amazon_df = pd.read_csv('datasets/amazon_prime_titles.csv')\n",
    "disney_df = pd.read_csv('datasets/disney_plus_titles.csv')\n",
    "hulu_df = pd.read_csv('datasets/hulu_titles.csv')\n",
    "netflix_df = pd.read_csv('datasets/netflix_titles.csv')"
   ]
  },
  {
   "attachments": {},
   "cell_type": "markdown",
   "metadata": {},
   "source": [
    "**Data Information**"
   ]
  },
  {
   "cell_type": "code",
   "execution_count": 3,
   "metadata": {},
   "outputs": [
    {
     "data": {
      "text/html": [
       "<div>\n",
       "<style scoped>\n",
       "    .dataframe tbody tr th:only-of-type {\n",
       "        vertical-align: middle;\n",
       "    }\n",
       "\n",
       "    .dataframe tbody tr th {\n",
       "        vertical-align: top;\n",
       "    }\n",
       "\n",
       "    .dataframe thead th {\n",
       "        text-align: right;\n",
       "    }\n",
       "</style>\n",
       "<table border=\"1\" class=\"dataframe\">\n",
       "  <thead>\n",
       "    <tr style=\"text-align: right;\">\n",
       "      <th></th>\n",
       "      <th>show_id</th>\n",
       "      <th>type</th>\n",
       "      <th>title</th>\n",
       "      <th>director</th>\n",
       "      <th>cast</th>\n",
       "      <th>country</th>\n",
       "      <th>date_added</th>\n",
       "      <th>release_year</th>\n",
       "      <th>rating</th>\n",
       "      <th>duration</th>\n",
       "      <th>listed_in</th>\n",
       "      <th>description</th>\n",
       "    </tr>\n",
       "  </thead>\n",
       "  <tbody>\n",
       "    <tr>\n",
       "      <th>0</th>\n",
       "      <td>s1</td>\n",
       "      <td>Movie</td>\n",
       "      <td>Dick Johnson Is Dead</td>\n",
       "      <td>Kirsten Johnson</td>\n",
       "      <td>NaN</td>\n",
       "      <td>United States</td>\n",
       "      <td>September 25, 2021</td>\n",
       "      <td>2020</td>\n",
       "      <td>PG-13</td>\n",
       "      <td>90 min</td>\n",
       "      <td>Documentaries</td>\n",
       "      <td>As her father nears the end of his life, filmm...</td>\n",
       "    </tr>\n",
       "    <tr>\n",
       "      <th>1</th>\n",
       "      <td>s2</td>\n",
       "      <td>TV Show</td>\n",
       "      <td>Blood &amp; Water</td>\n",
       "      <td>NaN</td>\n",
       "      <td>Ama Qamata, Khosi Ngema, Gail Mabalane, Thaban...</td>\n",
       "      <td>South Africa</td>\n",
       "      <td>September 24, 2021</td>\n",
       "      <td>2021</td>\n",
       "      <td>TV-MA</td>\n",
       "      <td>2 Seasons</td>\n",
       "      <td>International TV Shows, TV Dramas, TV Mysteries</td>\n",
       "      <td>After crossing paths at a party, a Cape Town t...</td>\n",
       "    </tr>\n",
       "    <tr>\n",
       "      <th>2</th>\n",
       "      <td>s3</td>\n",
       "      <td>TV Show</td>\n",
       "      <td>Ganglands</td>\n",
       "      <td>Julien Leclercq</td>\n",
       "      <td>Sami Bouajila, Tracy Gotoas, Samuel Jouy, Nabi...</td>\n",
       "      <td>NaN</td>\n",
       "      <td>September 24, 2021</td>\n",
       "      <td>2021</td>\n",
       "      <td>TV-MA</td>\n",
       "      <td>1 Season</td>\n",
       "      <td>Crime TV Shows, International TV Shows, TV Act...</td>\n",
       "      <td>To protect his family from a powerful drug lor...</td>\n",
       "    </tr>\n",
       "  </tbody>\n",
       "</table>\n",
       "</div>"
      ],
      "text/plain": [
       "  show_id     type                 title         director  \\\n",
       "0      s1    Movie  Dick Johnson Is Dead  Kirsten Johnson   \n",
       "1      s2  TV Show         Blood & Water              NaN   \n",
       "2      s3  TV Show             Ganglands  Julien Leclercq   \n",
       "\n",
       "                                                cast        country  \\\n",
       "0                                                NaN  United States   \n",
       "1  Ama Qamata, Khosi Ngema, Gail Mabalane, Thaban...   South Africa   \n",
       "2  Sami Bouajila, Tracy Gotoas, Samuel Jouy, Nabi...            NaN   \n",
       "\n",
       "           date_added  release_year rating   duration  \\\n",
       "0  September 25, 2021          2020  PG-13     90 min   \n",
       "1  September 24, 2021          2021  TV-MA  2 Seasons   \n",
       "2  September 24, 2021          2021  TV-MA   1 Season   \n",
       "\n",
       "                                           listed_in  \\\n",
       "0                                      Documentaries   \n",
       "1    International TV Shows, TV Dramas, TV Mysteries   \n",
       "2  Crime TV Shows, International TV Shows, TV Act...   \n",
       "\n",
       "                                         description  \n",
       "0  As her father nears the end of his life, filmm...  \n",
       "1  After crossing paths at a party, a Cape Town t...  \n",
       "2  To protect his family from a powerful drug lor...  "
      ]
     },
     "execution_count": 3,
     "metadata": {},
     "output_type": "execute_result"
    }
   ],
   "source": [
    "#amazon_df.head(3)\n",
    "#disney_df.head(3)\n",
    "#hulu_df.head(3)\n",
    "netflix_df.head(3)"
   ]
  },
  {
   "attachments": {},
   "cell_type": "markdown",
   "metadata": {},
   "source": [
    "Now, let's check out some columns of each DataFrame  "
   ]
  },
  {
   "cell_type": "code",
   "execution_count": 4,
   "metadata": {},
   "outputs": [
    {
     "name": "stdout",
     "output_type": "stream",
     "text": [
      "['s1' 's2' 's3' ... 's9666' 's9667' 's9668']\n",
      "['Movie' 'TV Show']\n",
      "113 min110 min74 min69 min45 min52 min98 min131 min87 min92 min88 min93 min94 min46 min96 min1 Season104 min62 min50 min3 Seasons2 Seasons86 min36 min37 min103 min9 min18 min14 min20 min19 min22 min60 min6 min54 min5 min84 min126 min125 min109 min89 min85 min56 min40 min111 min33 min34 min95 min99 min78 min4 Seasons77 min55 min53 min115 min58 min49 min135 min91 min64 min59 min48 min122 min90 min102 min65 min114 min136 min70 min138 min100 min480 min4 min30 min152 min68 min57 min7 Seasons31 min151 min149 min9 Seasons141 min121 min79 min140 min51 min106 min75 min27 min107 min108 min38 min157 min43 min118 min139 min6 Seasons112 min15 min72 min5 Seasons116 min142 min71 min42 min81 min32 min66 min127 min159 min67 min29 min132 min101 min164 min73 min61 min80 min83 min44 min120 min26 min97 min23 min105 min82 min11 min148 min161 min123 min29 Seasons0 min124 min143 min35 min47 min170 min19 Seasons3 min146 min601 min24 min21 Seasons154 min128 min133 min153 min119 min63 min169 min174 min144 min7 min137 min76 min39 min8 Seasons12 Seasons134 min163 min1 min145 min162 min41 min147 min155 min117 min167 min11 Seasons28 min25 min180 min2 min541 min240 min129 min178 min171 min21 min172 min173 min10 min166 min160 min130 min479 min13 min8 min10 Seasons17 min16 min158 min183 min12 min14 Seasons150 min481 min181 min156 min540 min177 min550 min485 min176 min193 min165 min175 min188 min187 min168 min190 min185 min209 min192 min182 min207 min269 min15 Seasons191 min\n",
      "[nan '13+' 'ALL' '18+' 'R' 'TV-Y' 'TV-Y7' 'NR' '16+' 'TV-PG' '7+' 'TV-14'\n",
      " 'TV-NR' 'TV-G' 'PG-13' 'TV-MA' 'G' 'PG' 'NC-17' 'UNRATED' '16' 'AGES_16_'\n",
      " 'AGES_18_' 'ALL_AGES' 'NOT_RATE']\n"
     ]
    }
   ],
   "source": [
    "print(amazon_df.show_id.unique())\n",
    "print(amazon_df.type.unique())\n",
    "print(amazon_df.duration.unique().sum())\n",
    "print(amazon_df.rating.unique())"
   ]
  },
  {
   "cell_type": "code",
   "execution_count": 5,
   "metadata": {},
   "outputs": [
    {
     "name": "stdout",
     "output_type": "stream",
     "text": [
      "['s1' 's2' 's3' ... 's1448' 's1449' 's1450']\n",
      "['Movie' 'TV Show']\n",
      "23 min91 min41 min1 Season94 min2 Seasons45 min59 min4 min10 Seasons2 min1 min8 min3 Seasons110 min11 min7 min95 min129 min14 min5 min134 min9 min30 min6 min22 min3 min87 min90 min93 min101 min132 min44 min131 min104 min5 Seasons52 min47 min53 min85 min92 min135 min4 Seasons105 min99 min32 Seasons88 min127 min106 min116 min42 min16 Seasons140 min19 Seasons66 min115 min137 min9 Seasons126 min82 min125 min54 min7 Seasons98 min102 min80 min170 min97 min112 min21 min20 min15 min19 min79 min6 Seasons89 min18 min81 min148 min121 min96 min109 min107 min86 min24 min8 Seasons12 min65 min48 min111 min43 min180 min182 min60 min50 min46 min123 min113 min117 min83 min103 min122 min72 min143 min84 min128 min138 min120 min118 min55 min56 min144 min33 min100 min160 min49 min152 min75 min108 min78 min119 min147 min142 min32 min31 min27 min77 min25 min74 min62 min71 min162 min73 min114 min10 min64 min51 min151 min76 min26 min130 min70 min13 min183 min150 min145 min67 min169 min61 min63 min124 min139 min136 min58 min69 min154 min175 min68 min\n",
      "['TV-G' 'PG' 'TV-PG' nan 'PG-13' 'TV-14' 'G' 'TV-Y7' 'TV-Y' 'TV-Y7-FV']\n"
     ]
    }
   ],
   "source": [
    "print(disney_df.show_id.unique())\n",
    "print(disney_df.type.unique())\n",
    "print(disney_df.duration.unique().sum())\n",
    "print(disney_df.rating.unique())"
   ]
  },
  {
   "cell_type": "code",
   "execution_count": 6,
   "metadata": {},
   "outputs": [
    {
     "name": "stdout",
     "output_type": "stream",
     "text": [
      "['s1' 's2' 's3' ... 's3071' 's3072' 's3073']\n",
      "['Movie' 'TV Show']\n",
      "[nan '94 min' '108 min' '97 min' '104 min' '1 Season' '88 min' '3 Seasons'\n",
      " '113 min' '6 Seasons' '87 min' '7 Seasons' '2 Seasons' '4 Seasons'\n",
      " '84 min' '95 min' '15 Seasons' '101 min' '93 min' '105 min' '12 Seasons'\n",
      " '8 Seasons' '99 min' '112 min' '124 min' '23 Seasons' '145 min' '125 min'\n",
      " '157 min' '41 min' '89 min' '5 Seasons' '80 min' '90 min' '116 min'\n",
      " '102 min' '100 min' '110 min' '114 min' '115 min' '130 min' '133 min'\n",
      " '91 min' '121 min' '96 min' '107 min' '103 min' '109 min' '98 min'\n",
      " '119 min' '106 min' '111 min' '118 min' '117 min' '136 min' '181 min'\n",
      " '182 min' '128 min' '138 min' '126 min' '72 min' '16 Seasons'\n",
      " '20 Seasons' '9 Seasons' '86 min' '75 min' '144 min' '26 min' '76 min'\n",
      " '129 min' '83 min' '92 min' '127 min' '139 min' '79 min' '192 min'\n",
      " '131 min' '123 min' '122 min' '82 min' '10 Seasons' '81 min' '134 min'\n",
      " '135 min' '170 min' '162 min' '40 min' '13 Seasons' '45 min' '152 min'\n",
      " '85 min' '14 Seasons' '146 min' '11 Seasons' '161 min' '29 Seasons'\n",
      " '143 min' '142 min' '63 min' '42 min' '17 Seasons' '120 min' '77 min'\n",
      " '65 min' '70 min' '19 Seasons' '30 Seasons' '22 Seasons' '149 min'\n",
      " '52 min' '23 min' '60 min' '1 min' '153 min' '151 min' '46 min' '37 min'\n",
      " '132 min' '67 min' '44 min' '51 min' '58 min' '71 min' '74 min' '78 min'\n",
      " '25 Seasons' '6 min' '2 min' '57 min' '5 min' '4 min' '34 Seasons'\n",
      " '54 min' '56 min' '25 min' '26 Seasons']\n",
      "['TV-MA' nan 'PG-13' 'R' 'TV-14' 'PG' 'TV-PG' 'NOT RATED' 'G' 'TV-G'\n",
      " '2 Seasons' 'TV-Y' '93 min' '4 Seasons' 'TV-Y7' '136 min' '91 min'\n",
      " '85 min' '98 min' '89 min' '94 min' '86 min' '3 Seasons' '121 min'\n",
      " '88 min' '101 min' '1 Season' '83 min' '100 min' '95 min' '92 min'\n",
      " '96 min' '109 min' '99 min' '75 min' '87 min' '67 min' '104 min'\n",
      " '107 min' '84 min' '103 min' '105 min' '119 min' '114 min' '82 min'\n",
      " '90 min' '130 min' '110 min' '80 min' '6 Seasons' '97 min' '111 min'\n",
      " '81 min' '49 min' '45 min' '41 min' '73 min' '40 min' '36 min' '39 min'\n",
      " '34 min' '47 min' '65 min' '37 min' '78 min' '102 min' '129 min'\n",
      " '115 min' '112 min' 'NR' '61 min' '106 min' '76 min' '77 min' '79 min'\n",
      " '157 min' '28 min' '64 min' '7 min' '5 min' '6 min' '127 min' '142 min'\n",
      " '108 min' '57 min' '118 min' '116 min' '12 Seasons' '71 min']\n"
     ]
    }
   ],
   "source": [
    "print(hulu_df.show_id.unique())\n",
    "print(hulu_df.type.unique())\n",
    "print(hulu_df.duration.unique())\n",
    "print(hulu_df.rating.unique())"
   ]
  },
  {
   "cell_type": "code",
   "execution_count": 7,
   "metadata": {},
   "outputs": [
    {
     "name": "stdout",
     "output_type": "stream",
     "text": [
      "['s1' 's2' 's3' ... 's8805' 's8806' 's8807']\n",
      "['Movie' 'TV Show']\n",
      "['90 min' '2 Seasons' '1 Season' '91 min' '125 min' '9 Seasons' '104 min'\n",
      " '127 min' '4 Seasons' '67 min' '94 min' '5 Seasons' '161 min' '61 min'\n",
      " '166 min' '147 min' '103 min' '97 min' '106 min' '111 min' '3 Seasons'\n",
      " '110 min' '105 min' '96 min' '124 min' '116 min' '98 min' '23 min'\n",
      " '115 min' '122 min' '99 min' '88 min' '100 min' '6 Seasons' '102 min'\n",
      " '93 min' '95 min' '85 min' '83 min' '113 min' '13 min' '182 min' '48 min'\n",
      " '145 min' '87 min' '92 min' '80 min' '117 min' '128 min' '119 min'\n",
      " '143 min' '114 min' '118 min' '108 min' '63 min' '121 min' '142 min'\n",
      " '154 min' '120 min' '82 min' '109 min' '101 min' '86 min' '229 min'\n",
      " '76 min' '89 min' '156 min' '112 min' '107 min' '129 min' '135 min'\n",
      " '136 min' '165 min' '150 min' '133 min' '70 min' '84 min' '140 min'\n",
      " '78 min' '7 Seasons' '64 min' '59 min' '139 min' '69 min' '148 min'\n",
      " '189 min' '141 min' '130 min' '138 min' '81 min' '132 min' '10 Seasons'\n",
      " '123 min' '65 min' '68 min' '66 min' '62 min' '74 min' '131 min' '39 min'\n",
      " '46 min' '38 min' '8 Seasons' '17 Seasons' '126 min' '155 min' '159 min'\n",
      " '137 min' '12 min' '273 min' '36 min' '34 min' '77 min' '60 min' '49 min'\n",
      " '58 min' '72 min' '204 min' '212 min' '25 min' '73 min' '29 min' '47 min'\n",
      " '32 min' '35 min' '71 min' '149 min' '33 min' '15 min' '54 min' '224 min'\n",
      " '162 min' '37 min' '75 min' '79 min' '55 min' '158 min' '164 min'\n",
      " '173 min' '181 min' '185 min' '21 min' '24 min' '51 min' '151 min'\n",
      " '42 min' '22 min' '134 min' '177 min' '13 Seasons' '52 min' '14 min'\n",
      " '53 min' '8 min' '57 min' '28 min' '50 min' '9 min' '26 min' '45 min'\n",
      " '171 min' '27 min' '44 min' '146 min' '20 min' '157 min' '17 min'\n",
      " '203 min' '41 min' '30 min' '194 min' '15 Seasons' '233 min' '237 min'\n",
      " '230 min' '195 min' '253 min' '152 min' '190 min' '160 min' '208 min'\n",
      " '180 min' '144 min' '5 min' '174 min' '170 min' '192 min' '209 min'\n",
      " '187 min' '172 min' '16 min' '186 min' '11 min' '193 min' '176 min'\n",
      " '56 min' '169 min' '40 min' '10 min' '3 min' '168 min' '312 min'\n",
      " '153 min' '214 min' '31 min' '163 min' '19 min' '12 Seasons' nan\n",
      " '179 min' '11 Seasons' '43 min' '200 min' '196 min' '167 min' '178 min'\n",
      " '228 min' '18 min' '205 min' '201 min' '191 min']\n",
      "['PG-13' 'TV-MA' 'PG' 'TV-14' 'TV-PG' 'TV-Y' 'TV-Y7' 'R' 'TV-G' 'G'\n",
      " 'NC-17' '74 min' '84 min' '66 min' 'NR' nan 'TV-Y7-FV' 'UR']\n"
     ]
    }
   ],
   "source": [
    "print(netflix_df.show_id.unique())\n",
    "print(netflix_df.type.unique())\n",
    "print(netflix_df.duration.unique())\n",
    "print(netflix_df.rating.unique())"
   ]
  },
  {
   "attachments": {},
   "cell_type": "markdown",
   "metadata": {},
   "source": [
    "At glance, there are some problems that we have with  hulu and netflix dataFrame because that that we have merged data on duration and rating columns. That's why now we are gonna fix."
   ]
  },
  {
   "cell_type": "code",
   "execution_count": 8,
   "metadata": {},
   "outputs": [
    {
     "data": {
      "text/html": [
       "<div>\n",
       "<style scoped>\n",
       "    .dataframe tbody tr th:only-of-type {\n",
       "        vertical-align: middle;\n",
       "    }\n",
       "\n",
       "    .dataframe tbody tr th {\n",
       "        vertical-align: top;\n",
       "    }\n",
       "\n",
       "    .dataframe thead th {\n",
       "        text-align: right;\n",
       "    }\n",
       "</style>\n",
       "<table border=\"1\" class=\"dataframe\">\n",
       "  <thead>\n",
       "    <tr style=\"text-align: right;\">\n",
       "      <th></th>\n",
       "      <th>duration</th>\n",
       "      <th>rating</th>\n",
       "    </tr>\n",
       "  </thead>\n",
       "  <tbody>\n",
       "    <tr>\n",
       "      <th>50</th>\n",
       "      <td>NaN</td>\n",
       "      <td>2 Seasons</td>\n",
       "    </tr>\n",
       "    <tr>\n",
       "      <th>108</th>\n",
       "      <td>NaN</td>\n",
       "      <td>93 min</td>\n",
       "    </tr>\n",
       "    <tr>\n",
       "      <th>263</th>\n",
       "      <td>NaN</td>\n",
       "      <td>4 Seasons</td>\n",
       "    </tr>\n",
       "    <tr>\n",
       "      <th>397</th>\n",
       "      <td>NaN</td>\n",
       "      <td>136 min</td>\n",
       "    </tr>\n",
       "    <tr>\n",
       "      <th>471</th>\n",
       "      <td>NaN</td>\n",
       "      <td>2 Seasons</td>\n",
       "    </tr>\n",
       "    <tr>\n",
       "      <th>...</th>\n",
       "      <td>...</td>\n",
       "      <td>...</td>\n",
       "    </tr>\n",
       "    <tr>\n",
       "      <th>2951</th>\n",
       "      <td>NaN</td>\n",
       "      <td>12 Seasons</td>\n",
       "    </tr>\n",
       "    <tr>\n",
       "      <th>2955</th>\n",
       "      <td>NaN</td>\n",
       "      <td>3 Seasons</td>\n",
       "    </tr>\n",
       "    <tr>\n",
       "      <th>2958</th>\n",
       "      <td>NaN</td>\n",
       "      <td>93 min</td>\n",
       "    </tr>\n",
       "    <tr>\n",
       "      <th>2959</th>\n",
       "      <td>NaN</td>\n",
       "      <td>6 Seasons</td>\n",
       "    </tr>\n",
       "    <tr>\n",
       "      <th>2993</th>\n",
       "      <td>NaN</td>\n",
       "      <td>71 min</td>\n",
       "    </tr>\n",
       "  </tbody>\n",
       "</table>\n",
       "<p>292 rows × 2 columns</p>\n",
       "</div>"
      ],
      "text/plain": [
       "     duration      rating\n",
       "50        NaN   2 Seasons\n",
       "108       NaN      93 min\n",
       "263       NaN   4 Seasons\n",
       "397       NaN     136 min\n",
       "471       NaN   2 Seasons\n",
       "...       ...         ...\n",
       "2951      NaN  12 Seasons\n",
       "2955      NaN   3 Seasons\n",
       "2958      NaN      93 min\n",
       "2959      NaN   6 Seasons\n",
       "2993      NaN      71 min\n",
       "\n",
       "[292 rows x 2 columns]"
      ]
     },
     "execution_count": 8,
     "metadata": {},
     "output_type": "execute_result"
    }
   ],
   "source": [
    "#indentify which registers are not in the right place\n",
    "hulu_df[['duration','rating']][hulu_df['rating'].str.contains('min|season|Season|Seasons') == True]"
   ]
  },
  {
   "cell_type": "code",
   "execution_count": 9,
   "metadata": {},
   "outputs": [
    {
     "name": "stderr",
     "output_type": "stream",
     "text": [
      "C:\\Users\\Hp\\AppData\\Local\\Temp\\ipykernel_21256\\2975193649.py:3: SettingWithCopyWarning: \n",
      "A value is trying to be set on a copy of a slice from a DataFrame\n",
      "\n",
      "See the caveats in the documentation: https://pandas.pydata.org/pandas-docs/stable/user_guide/indexing.html#returning-a-view-versus-a-copy\n",
      "  hulu_df.duration[hulu_df['rating'].str.contains(min_season) == True] = hulu_df.rating[hulu_df['rating'].str.contains(min_season) == True]\n",
      "C:\\Users\\Hp\\AppData\\Local\\Temp\\ipykernel_21256\\2975193649.py:5: SettingWithCopyWarning: \n",
      "A value is trying to be set on a copy of a slice from a DataFrame\n",
      "\n",
      "See the caveats in the documentation: https://pandas.pydata.org/pandas-docs/stable/user_guide/indexing.html#returning-a-view-versus-a-copy\n",
      "  hulu_df.rating[hulu_df['rating'].str.contains(min_season) == True] = 'not rated'\n"
     ]
    }
   ],
   "source": [
    "# replacing all nan in duration columns by rating values\n",
    "min_season = 'min|season|Season|Seasons'\n",
    "hulu_df.duration[hulu_df['rating'].str.contains(min_season) == True] = hulu_df.rating[hulu_df['rating'].str.contains(min_season) == True]\n",
    "# replacing these wrong data by not rated\n",
    "hulu_df.rating[hulu_df['rating'].str.contains(min_season) == True] = 'not rated'"
   ]
  },
  {
   "cell_type": "code",
   "execution_count": 10,
   "metadata": {},
   "outputs": [
    {
     "name": "stdout",
     "output_type": "stream",
     "text": [
      "['TV-MA' nan 'PG-13' 'R' 'TV-14' 'PG' 'TV-PG' 'NOT RATED' 'G' 'TV-G'\n",
      " 'not rated' 'TV-Y' 'TV-Y7' 'NR']\n",
      "[nan '94 min' '108 min' '97 min' '104 min' '1 Season' '88 min' '3 Seasons'\n",
      " '113 min' '6 Seasons' '87 min' '7 Seasons' '2 Seasons' '4 Seasons'\n",
      " '84 min' '95 min' '15 Seasons' '101 min' '93 min' '105 min' '12 Seasons'\n",
      " '8 Seasons' '99 min' '112 min' '124 min' '23 Seasons' '145 min' '125 min'\n",
      " '157 min' '41 min' '89 min' '5 Seasons' '80 min' '90 min' '116 min'\n",
      " '102 min' '100 min' '110 min' '114 min' '115 min' '130 min' '133 min'\n",
      " '91 min' '121 min' '96 min' '107 min' '103 min' '109 min' '98 min'\n",
      " '119 min' '106 min' '111 min' '118 min' '117 min' '136 min' '181 min'\n",
      " '182 min' '128 min' '138 min' '126 min' '72 min' '16 Seasons'\n",
      " '20 Seasons' '9 Seasons' '86 min' '75 min' '144 min' '26 min' '76 min'\n",
      " '129 min' '83 min' '92 min' '127 min' '139 min' '79 min' '192 min'\n",
      " '131 min' '123 min' '122 min' '82 min' '10 Seasons' '81 min' '134 min'\n",
      " '135 min' '170 min' '162 min' '40 min' '13 Seasons' '45 min' '85 min'\n",
      " '152 min' '14 Seasons' '146 min' '11 Seasons' '161 min' '29 Seasons'\n",
      " '143 min' '142 min' '63 min' '42 min' '17 Seasons' '120 min' '77 min'\n",
      " '65 min' '70 min' '19 Seasons' '30 Seasons' '22 Seasons' '67 min'\n",
      " '149 min' '52 min' '23 min' '60 min' '1 min' '153 min' '151 min' '49 min'\n",
      " '46 min' '73 min' '36 min' '39 min' '34 min' '47 min' '37 min' '78 min'\n",
      " '132 min' '61 min' '44 min' '51 min' '58 min' '71 min' '74 min' '28 min'\n",
      " '25 Seasons' '64 min' '7 min' '5 min' '6 min' '2 min' '57 min' '4 min'\n",
      " '34 Seasons' '54 min' '56 min' '25 min' '26 Seasons']\n"
     ]
    }
   ],
   "source": [
    "#check duration and rating tables out . Noe, we have all the data on the right place\n",
    "print(hulu_df.rating.unique())\n",
    "print(hulu_df.duration.unique())"
   ]
  },
  {
   "attachments": {},
   "cell_type": "markdown",
   "metadata": {},
   "source": [
    "The same way for netflix DataFrame"
   ]
  },
  {
   "cell_type": "code",
   "execution_count": 11,
   "metadata": {},
   "outputs": [
    {
     "name": "stderr",
     "output_type": "stream",
     "text": [
      "C:\\Users\\Hp\\AppData\\Local\\Temp\\ipykernel_21256\\3040652510.py:5: SettingWithCopyWarning: \n",
      "A value is trying to be set on a copy of a slice from a DataFrame\n",
      "\n",
      "See the caveats in the documentation: https://pandas.pydata.org/pandas-docs/stable/user_guide/indexing.html#returning-a-view-versus-a-copy\n",
      "  netflix_df.duration[netflix_df['rating'].str.contains(min_season) == True] = netflix_df.rating[netflix_df['rating'].str.contains(min_season) == True]\n",
      "C:\\Users\\Hp\\AppData\\Local\\Temp\\ipykernel_21256\\3040652510.py:7: SettingWithCopyWarning: \n",
      "A value is trying to be set on a copy of a slice from a DataFrame\n",
      "\n",
      "See the caveats in the documentation: https://pandas.pydata.org/pandas-docs/stable/user_guide/indexing.html#returning-a-view-versus-a-copy\n",
      "  netflix_df.rating[netflix_df['rating'].str.contains(min_season) == True] = 'not rated'\n"
     ]
    }
   ],
   "source": [
    "#indentify which registers are not in the right place\n",
    "netflix_df[['duration','rating']][netflix_df['rating'].str.contains('min|season|Season|Seasons') == True]\n",
    "# we replace all nan in duration columns by rating values\n",
    "min_season = 'min|season|Season|Seasons'\n",
    "netflix_df.duration[netflix_df['rating'].str.contains(min_season) == True] = netflix_df.rating[netflix_df['rating'].str.contains(min_season) == True]\n",
    "#replace these wrong data by not rated\n",
    "netflix_df.rating[netflix_df['rating'].str.contains(min_season) == True] = 'not rated'"
   ]
  },
  {
   "cell_type": "code",
   "execution_count": 12,
   "metadata": {},
   "outputs": [
    {
     "name": "stdout",
     "output_type": "stream",
     "text": [
      "amazon: [nan '13+' 'ALL' '18+' 'R' 'TV-Y' 'TV-Y7' 'NR' '16+' 'TV-PG' '7+' 'TV-14'\n",
      " 'TV-NR' 'TV-G' 'PG-13' 'TV-MA' 'G' 'PG' 'NC-17' 'UNRATED' '16' 'AGES_16_'\n",
      " 'AGES_18_' 'ALL_AGES' 'NOT_RATE']\n",
      "disney: ['TV-G' 'PG' 'TV-PG' nan 'PG-13' 'TV-14' 'G' 'TV-Y7' 'TV-Y' 'TV-Y7-FV']\n",
      "hulu: ['TV-MA' nan 'PG-13' 'R' 'TV-14' 'PG' 'TV-PG' 'NOT RATED' 'G' 'TV-G'\n",
      " 'not rated' 'TV-Y' 'TV-Y7' 'NR']\n",
      "netflix: ['PG-13' 'TV-MA' 'PG' 'TV-14' 'TV-PG' 'TV-Y' 'TV-Y7' 'R' 'TV-G' 'G'\n",
      " 'NC-17' 'not rated' 'NR' nan 'TV-Y7-FV' 'UR']\n"
     ]
    }
   ],
   "source": [
    "# Another thing we look through is about rating columns for each dataFrame\n",
    "print(f'amazon: {amazon_df.rating.unique()}')\n",
    "print(f'disney: {disney_df.rating.unique()}')\n",
    "print(f'hulu: {hulu_df.rating.unique()}')\n",
    "print(f'netflix: {netflix_df.rating.unique()}')\n"
   ]
  },
  {
   "attachments": {
    "image.png": {
     "image/png": "[encoded data removed]"
    }
   },
   "cell_type": "markdown",
   "metadata": {},
   "source": [
    "According to united state tv clsasificacion, let's replace some values : \n",
    "https://es.wikipedia.org/wiki/Clasificaci%C3%B3n_por_edades_(televisi%C3%B3n)\n",
    "![image.png](attachment:image.png)"
   ]
  },
  {
   "cell_type": "code",
   "execution_count": 13,
   "metadata": {},
   "outputs": [
    {
     "name": "stderr",
     "output_type": "stream",
     "text": [
      "C:\\Users\\Hp\\AppData\\Local\\Temp\\ipykernel_21256\\2238018477.py:2: SettingWithCopyWarning: \n",
      "A value is trying to be set on a copy of a slice from a DataFrame\n",
      "\n",
      "See the caveats in the documentation: https://pandas.pydata.org/pandas-docs/stable/user_guide/indexing.html#returning-a-view-versus-a-copy\n",
      "  amazon_df.rating[amazon_df.rating.str.contains('NR|UNRATED|NOT_RATE|TV-NR')==True] = 'not rated'\n",
      "C:\\Users\\Hp\\AppData\\Local\\Temp\\ipykernel_21256\\2238018477.py:3: SettingWithCopyWarning: \n",
      "A value is trying to be set on a copy of a slice from a DataFrame\n",
      "\n",
      "See the caveats in the documentation: https://pandas.pydata.org/pandas-docs/stable/user_guide/indexing.html#returning-a-view-versus-a-copy\n",
      "  amazon_df.rating[amazon_df.rating.str.contains('13+|16+|R|PG-13|AGES_16_|16')==True] = 'TV-PG'\n",
      "C:\\Users\\Hp\\AppData\\Local\\Temp\\ipykernel_21256\\2238018477.py:4: SettingWithCopyWarning: \n",
      "A value is trying to be set on a copy of a slice from a DataFrame\n",
      "\n",
      "See the caveats in the documentation: https://pandas.pydata.org/pandas-docs/stable/user_guide/indexing.html#returning-a-view-versus-a-copy\n",
      "  amazon_df.rating[amazon_df.rating.str.contains('ALL|PG|TV-G|ALL_AGES')==True] = 'G'\n",
      "C:\\Users\\Hp\\AppData\\Local\\Temp\\ipykernel_21256\\2238018477.py:5: SettingWithCopyWarning: \n",
      "A value is trying to be set on a copy of a slice from a DataFrame\n",
      "\n",
      "See the caveats in the documentation: https://pandas.pydata.org/pandas-docs/stable/user_guide/indexing.html#returning-a-view-versus-a-copy\n",
      "  amazon_df.rating[amazon_df.rating.str.contains('18+|NC-17|AGES_18_')==True] = 'TV-MA'\n",
      "C:\\Users\\Hp\\AppData\\Local\\Temp\\ipykernel_21256\\2238018477.py:6: SettingWithCopyWarning: \n",
      "A value is trying to be set on a copy of a slice from a DataFrame\n",
      "\n",
      "See the caveats in the documentation: https://pandas.pydata.org/pandas-docs/stable/user_guide/indexing.html#returning-a-view-versus-a-copy\n",
      "  amazon_df.rating[amazon_df.rating.str.contains('7+')==True] = 'TV-Y7'\n",
      "C:\\Users\\Hp\\AppData\\Local\\Temp\\ipykernel_21256\\2238018477.py:8: SettingWithCopyWarning: \n",
      "A value is trying to be set on a copy of a slice from a DataFrame\n",
      "\n",
      "See the caveats in the documentation: https://pandas.pydata.org/pandas-docs/stable/user_guide/indexing.html#returning-a-view-versus-a-copy\n",
      "  disney_df.rating[disney_df.rating.str.contains('TV-G')==True] = 'G'\n",
      "C:\\Users\\Hp\\AppData\\Local\\Temp\\ipykernel_21256\\2238018477.py:9: SettingWithCopyWarning: \n",
      "A value is trying to be set on a copy of a slice from a DataFrame\n",
      "\n",
      "See the caveats in the documentation: https://pandas.pydata.org/pandas-docs/stable/user_guide/indexing.html#returning-a-view-versus-a-copy\n",
      "  disney_df.rating[disney_df.rating.str.contains('PG|PG-13')==True] = 'TV-PG'\n",
      "C:\\Users\\Hp\\AppData\\Local\\Temp\\ipykernel_21256\\2238018477.py:11: SettingWithCopyWarning: \n",
      "A value is trying to be set on a copy of a slice from a DataFrame\n",
      "\n",
      "See the caveats in the documentation: https://pandas.pydata.org/pandas-docs/stable/user_guide/indexing.html#returning-a-view-versus-a-copy\n",
      "  hulu_df.rating[hulu_df.rating.str.contains('R|PG-13|PG')==True] = 'TV-PG'\n",
      "C:\\Users\\Hp\\AppData\\Local\\Temp\\ipykernel_21256\\2238018477.py:12: SettingWithCopyWarning: \n",
      "A value is trying to be set on a copy of a slice from a DataFrame\n",
      "\n",
      "See the caveats in the documentation: https://pandas.pydata.org/pandas-docs/stable/user_guide/indexing.html#returning-a-view-versus-a-copy\n",
      "  hulu_df.rating[hulu_df.rating.str.contains('TV-G')==True] = 'G'\n",
      "C:\\Users\\Hp\\AppData\\Local\\Temp\\ipykernel_21256\\2238018477.py:13: SettingWithCopyWarning: \n",
      "A value is trying to be set on a copy of a slice from a DataFrame\n",
      "\n",
      "See the caveats in the documentation: https://pandas.pydata.org/pandas-docs/stable/user_guide/indexing.html#returning-a-view-versus-a-copy\n",
      "  hulu_df.rating[hulu_df.rating.str.contains('NOT RATED|NR')==True] = 'not rated'\n",
      "C:\\Users\\Hp\\AppData\\Local\\Temp\\ipykernel_21256\\2238018477.py:15: SettingWithCopyWarning: \n",
      "A value is trying to be set on a copy of a slice from a DataFrame\n",
      "\n",
      "See the caveats in the documentation: https://pandas.pydata.org/pandas-docs/stable/user_guide/indexing.html#returning-a-view-versus-a-copy\n",
      "  netflix_df.rating[netflix_df.rating.str.contains('R|PG-13|PG')==True] = 'TV-PG'\n",
      "C:\\Users\\Hp\\AppData\\Local\\Temp\\ipykernel_21256\\2238018477.py:16: SettingWithCopyWarning: \n",
      "A value is trying to be set on a copy of a slice from a DataFrame\n",
      "\n",
      "See the caveats in the documentation: https://pandas.pydata.org/pandas-docs/stable/user_guide/indexing.html#returning-a-view-versus-a-copy\n",
      "  netflix_df.rating[netflix_df.rating.str.contains('TV-G')==True] = 'G'\n",
      "C:\\Users\\Hp\\AppData\\Local\\Temp\\ipykernel_21256\\2238018477.py:17: SettingWithCopyWarning: \n",
      "A value is trying to be set on a copy of a slice from a DataFrame\n",
      "\n",
      "See the caveats in the documentation: https://pandas.pydata.org/pandas-docs/stable/user_guide/indexing.html#returning-a-view-versus-a-copy\n",
      "  netflix_df.rating[netflix_df.rating.str.contains('UR|NR')==True] = 'not rated'\n",
      "C:\\Users\\Hp\\AppData\\Local\\Temp\\ipykernel_21256\\2238018477.py:18: SettingWithCopyWarning: \n",
      "A value is trying to be set on a copy of a slice from a DataFrame\n",
      "\n",
      "See the caveats in the documentation: https://pandas.pydata.org/pandas-docs/stable/user_guide/indexing.html#returning-a-view-versus-a-copy\n",
      "  netflix_df.rating[netflix_df.rating.str.contains('NC-17')==True] = 'TV-MA'\n"
     ]
    }
   ],
   "source": [
    "#replace data for the amazon data Frame\n",
    "amazon_df.rating[amazon_df.rating.str.contains('NR|UNRATED|NOT_RATE|TV-NR')==True] = 'not rated'\n",
    "amazon_df.rating[amazon_df.rating.str.contains('13+|16+|R|PG-13|AGES_16_|16')==True] = 'TV-PG'\n",
    "amazon_df.rating[amazon_df.rating.str.contains('ALL|PG|TV-G|ALL_AGES')==True] = 'G'\n",
    "amazon_df.rating[amazon_df.rating.str.contains('18+|NC-17|AGES_18_')==True] = 'TV-MA'\n",
    "amazon_df.rating[amazon_df.rating.str.contains('7+')==True] = 'TV-Y7'\n",
    "#replace data for the disney data Frame\n",
    "disney_df.rating[disney_df.rating.str.contains('TV-G')==True] = 'G'\n",
    "disney_df.rating[disney_df.rating.str.contains('PG|PG-13')==True] = 'TV-PG'\n",
    "#replace data for the hulu data Frame\n",
    "hulu_df.rating[hulu_df.rating.str.contains('R|PG-13|PG')==True] = 'TV-PG'\n",
    "hulu_df.rating[hulu_df.rating.str.contains('TV-G')==True] = 'G'\n",
    "hulu_df.rating[hulu_df.rating.str.contains('NOT RATED|NR')==True] = 'not rated'\n",
    "#replace data for the netflix data Frame\n",
    "netflix_df.rating[netflix_df.rating.str.contains('R|PG-13|PG')==True] = 'TV-PG'\n",
    "netflix_df.rating[netflix_df.rating.str.contains('TV-G')==True] = 'G'\n",
    "netflix_df.rating[netflix_df.rating.str.contains('UR|NR')==True] = 'not rated'\n",
    "netflix_df.rating[netflix_df.rating.str.contains('NC-17')==True] = 'TV-MA'"
   ]
  },
  {
   "cell_type": "code",
   "execution_count": 14,
   "metadata": {},
   "outputs": [
    {
     "name": "stdout",
     "output_type": "stream",
     "text": [
      "amazon: [nan 'G' 'TV-MA' 'TV-Y' 'TV-Y7' 'not rated' 'TV-14']\n",
      "disney: ['G' 'TV-PG' nan 'TV-14' 'TV-Y7' 'TV-Y' 'TV-Y7-FV']\n",
      "hulu: ['TV-MA' nan 'TV-PG' 'TV-14' 'G' 'not rated' 'TV-Y' 'TV-Y7']\n",
      "netflix: ['TV-PG' 'TV-MA' 'TV-14' 'TV-Y' 'TV-Y7' 'G' 'not rated' nan 'TV-Y7-FV']\n"
     ]
    }
   ],
   "source": [
    "print(f'amazon: {amazon_df.rating.unique()}')\n",
    "print(f'disney: {disney_df.rating.unique()}')\n",
    "print(f'hulu: {hulu_df.rating.unique()}')\n",
    "print(f'netflix: {netflix_df.rating.unique()}')"
   ]
  },
  {
   "attachments": {},
   "cell_type": "markdown",
   "metadata": {},
   "source": [
    "**Information from Data**\n",
    "We´ll try to identify null, duplicated , etc. and apply some transformation according to indications in order to have a better data "
   ]
  },
  {
   "cell_type": "code",
   "execution_count": 15,
   "metadata": {},
   "outputs": [
    {
     "name": "stdout",
     "output_type": "stream",
     "text": [
      "<class 'pandas.core.frame.DataFrame'>\n",
      "RangeIndex: 1450 entries, 0 to 1449\n",
      "Data columns (total 12 columns):\n",
      " #   Column        Non-Null Count  Dtype \n",
      "---  ------        --------------  ----- \n",
      " 0   show_id       1450 non-null   object\n",
      " 1   type          1450 non-null   object\n",
      " 2   title         1450 non-null   object\n",
      " 3   director      977 non-null    object\n",
      " 4   cast          1260 non-null   object\n",
      " 5   country       1231 non-null   object\n",
      " 6   date_added    1447 non-null   object\n",
      " 7   release_year  1450 non-null   int64 \n",
      " 8   rating        1447 non-null   object\n",
      " 9   duration      1450 non-null   object\n",
      " 10  listed_in     1450 non-null   object\n",
      " 11  description   1450 non-null   object\n",
      "dtypes: int64(1), object(11)\n",
      "memory usage: 136.1+ KB\n"
     ]
    }
   ],
   "source": [
    "#amazon_df.info()\n",
    "#disney_df.info()\n",
    "#hulu_df.info()\n",
    "disney_df.info()"
   ]
  },
  {
   "attachments": {},
   "cell_type": "markdown",
   "metadata": {},
   "source": [
    "**Applying transformations**\n",
    "Transformaciones: Para este MVP no necesitas perfección, ¡necesitas rapidez! ⏩ Vas a hacer estas, y solo estas, transformaciones a los datos:"
   ]
  },
  {
   "cell_type": "code",
   "execution_count": 16,
   "metadata": {},
   "outputs": [
    {
     "name": "stdout",
     "output_type": "stream",
     "text": [
      "Amazon dataFrame has 0 duplicated\n",
      "Disney dataFrame has 0 duplicated\n",
      "Hulu dataFrame has 0 duplicated\n",
      "netflix dataFrame has 0 duplicated\n"
     ]
    }
   ],
   "source": [
    "#identifying duplicated (THERE IS NO DATA DUPLICATED)\n",
    "print(f'Amazon dataFrame has {amazon_df.duplicated().sum()} duplicated')\n",
    "print(f'Disney dataFrame has {disney_df.duplicated().sum()} duplicated')\n",
    "print(f'Hulu dataFrame has {hulu_df.duplicated().sum()} duplicated')\n",
    "print(f'netflix dataFrame has {netflix_df.duplicated().sum()} duplicated')"
   ]
  },
  {
   "attachments": {},
   "cell_type": "markdown",
   "metadata": {},
   "source": [
    "1. Generar campo id: Cada id se compondrá de la primera letra del nombre de la plataforma, seguido del show_id ya presente en los datasets (ejemplo para títulos de Amazon = as123)"
   ]
  },
  {
   "cell_type": "code",
   "execution_count": 17,
   "metadata": {},
   "outputs": [],
   "source": [
    "# Creating a nwe column from show_id column called id using insert function\n",
    "amazon_df.insert(0,'id','a'+amazon_df.show_id,'id')\n",
    "disney_df.insert(0,'id','d'+disney_df.show_id,'id')\n",
    "hulu_df.insert(0,'id','h'+hulu_df.show_id,'id')\n",
    "netflix_df.insert(0,'id','n'+netflix_df.show_id,'id')"
   ]
  },
  {
   "cell_type": "code",
   "execution_count": 18,
   "metadata": {},
   "outputs": [
    {
     "data": {
      "text/html": [
       "<div>\n",
       "<style scoped>\n",
       "    .dataframe tbody tr th:only-of-type {\n",
       "        vertical-align: middle;\n",
       "    }\n",
       "\n",
       "    .dataframe tbody tr th {\n",
       "        vertical-align: top;\n",
       "    }\n",
       "\n",
       "    .dataframe thead th {\n",
       "        text-align: right;\n",
       "    }\n",
       "</style>\n",
       "<table border=\"1\" class=\"dataframe\">\n",
       "  <thead>\n",
       "    <tr style=\"text-align: right;\">\n",
       "      <th></th>\n",
       "      <th>id</th>\n",
       "      <th>show_id</th>\n",
       "      <th>type</th>\n",
       "      <th>title</th>\n",
       "      <th>director</th>\n",
       "      <th>cast</th>\n",
       "      <th>country</th>\n",
       "      <th>date_added</th>\n",
       "      <th>release_year</th>\n",
       "      <th>rating</th>\n",
       "      <th>duration</th>\n",
       "      <th>listed_in</th>\n",
       "      <th>description</th>\n",
       "    </tr>\n",
       "  </thead>\n",
       "  <tbody>\n",
       "    <tr>\n",
       "      <th>0</th>\n",
       "      <td>as1</td>\n",
       "      <td>s1</td>\n",
       "      <td>Movie</td>\n",
       "      <td>The Grand Seduction</td>\n",
       "      <td>Don McKellar</td>\n",
       "      <td>Brendan Gleeson, Taylor Kitsch, Gordon Pinsent</td>\n",
       "      <td>Canada</td>\n",
       "      <td>March 30, 2021</td>\n",
       "      <td>2014</td>\n",
       "      <td>NaN</td>\n",
       "      <td>113 min</td>\n",
       "      <td>Comedy, Drama</td>\n",
       "      <td>A small fishing village must procure a local d...</td>\n",
       "    </tr>\n",
       "    <tr>\n",
       "      <th>1</th>\n",
       "      <td>as2</td>\n",
       "      <td>s2</td>\n",
       "      <td>Movie</td>\n",
       "      <td>Take Care Good Night</td>\n",
       "      <td>Girish Joshi</td>\n",
       "      <td>Mahesh Manjrekar, Abhay Mahajan, Sachin Khedekar</td>\n",
       "      <td>India</td>\n",
       "      <td>March 30, 2021</td>\n",
       "      <td>2018</td>\n",
       "      <td>G</td>\n",
       "      <td>110 min</td>\n",
       "      <td>Drama, International</td>\n",
       "      <td>A Metro Family decides to fight a Cyber Crimin...</td>\n",
       "    </tr>\n",
       "    <tr>\n",
       "      <th>2</th>\n",
       "      <td>as3</td>\n",
       "      <td>s3</td>\n",
       "      <td>Movie</td>\n",
       "      <td>Secrets of Deception</td>\n",
       "      <td>Josh Webber</td>\n",
       "      <td>Tom Sizemore, Lorenzo Lamas, Robert LaSardo, R...</td>\n",
       "      <td>United States</td>\n",
       "      <td>March 30, 2021</td>\n",
       "      <td>2017</td>\n",
       "      <td>NaN</td>\n",
       "      <td>74 min</td>\n",
       "      <td>Action, Drama, Suspense</td>\n",
       "      <td>After a man discovers his wife is cheating on ...</td>\n",
       "    </tr>\n",
       "  </tbody>\n",
       "</table>\n",
       "</div>"
      ],
      "text/plain": [
       "    id show_id   type                 title      director  \\\n",
       "0  as1      s1  Movie   The Grand Seduction  Don McKellar   \n",
       "1  as2      s2  Movie  Take Care Good Night  Girish Joshi   \n",
       "2  as3      s3  Movie  Secrets of Deception   Josh Webber   \n",
       "\n",
       "                                                cast        country  \\\n",
       "0     Brendan Gleeson, Taylor Kitsch, Gordon Pinsent         Canada   \n",
       "1   Mahesh Manjrekar, Abhay Mahajan, Sachin Khedekar          India   \n",
       "2  Tom Sizemore, Lorenzo Lamas, Robert LaSardo, R...  United States   \n",
       "\n",
       "       date_added  release_year rating duration                listed_in  \\\n",
       "0  March 30, 2021          2014    NaN  113 min            Comedy, Drama   \n",
       "1  March 30, 2021          2018      G  110 min     Drama, International   \n",
       "2  March 30, 2021          2017    NaN   74 min  Action, Drama, Suspense   \n",
       "\n",
       "                                         description  \n",
       "0  A small fishing village must procure a local d...  \n",
       "1  A Metro Family decides to fight a Cyber Crimin...  \n",
       "2  After a man discovers his wife is cheating on ...  "
      ]
     },
     "execution_count": 18,
     "metadata": {},
     "output_type": "execute_result"
    }
   ],
   "source": [
    "amazon_df.head(3)"
   ]
  },
  {
   "attachments": {},
   "cell_type": "markdown",
   "metadata": {},
   "source": [
    "2. Los valores nulos del campo rating deberán reemplazarse por el string “G” (corresponde al maturity rating: “general for all audiences”)"
   ]
  },
  {
   "cell_type": "code",
   "execution_count": 19,
   "metadata": {},
   "outputs": [
    {
     "name": "stdout",
     "output_type": "stream",
     "text": [
      "Amazon dataFrame has 337 nulls from 9668 columns\n",
      "Disney dataFrame has 3 nulls from 1450 columns\n",
      "Hulu dataFrame has 520 nulls from 3073 columns\n",
      "Netflix dataFrame has 4 nulls from 8807 columns\n"
     ]
    }
   ],
   "source": [
    "#identify how many nulls there are in the rating field from each DataFrame\n",
    "print(f'Amazon dataFrame has {amazon_df.rating.isna().sum()} nulls from {amazon_df.shape[0]} columns')\n",
    "print(f'Disney dataFrame has {disney_df.rating.isnull().sum()} nulls from {disney_df.shape[0]} columns')\n",
    "print(f'Hulu dataFrame has {hulu_df.rating.isnull().sum()} nulls from {hulu_df.shape[0]} columns')\n",
    "print(f'Netflix dataFrame has {netflix_df.rating.isnull().sum()} nulls from {netflix_df.shape[0]} columns')"
   ]
  },
  {
   "attachments": {},
   "cell_type": "markdown",
   "metadata": {},
   "source": [
    "As we can see above there are not a lot nulls comparing with the amount of registers we have. Thus, we can keep on and replace the nulls with 'G' string  "
   ]
  },
  {
   "cell_type": "code",
   "execution_count": 20,
   "metadata": {},
   "outputs": [],
   "source": [
    "#Before replacing nulls by 'G' string.#let's merge all the dataFrame in order to apply all of them.\n",
    "#To do that I'll creat a new columns for each dataframe called platform in order to identify each plataform in the final Dataframe.\n",
    "amazon_df['platform'] = 'amazon'\n",
    "disney_df['platform'] = 'disney'\n",
    "hulu_df['platform'] = 'hulu'\n",
    "netflix_df['platform'] = 'netflix'"
   ]
  },
  {
   "cell_type": "code",
   "execution_count": 21,
   "metadata": {},
   "outputs": [],
   "source": [
    "# joinig the DataFrames\n",
    "platforms = [amazon_df, disney_df,hulu_df,netflix_df]\n",
    "total_platform_df = pd.concat(platforms,ignore_index=True)"
   ]
  },
  {
   "cell_type": "code",
   "execution_count": 22,
   "metadata": {},
   "outputs": [
    {
     "data": {
      "text/html": [
       "<div>\n",
       "<style scoped>\n",
       "    .dataframe tbody tr th:only-of-type {\n",
       "        vertical-align: middle;\n",
       "    }\n",
       "\n",
       "    .dataframe tbody tr th {\n",
       "        vertical-align: top;\n",
       "    }\n",
       "\n",
       "    .dataframe thead th {\n",
       "        text-align: right;\n",
       "    }\n",
       "</style>\n",
       "<table border=\"1\" class=\"dataframe\">\n",
       "  <thead>\n",
       "    <tr style=\"text-align: right;\">\n",
       "      <th></th>\n",
       "      <th>id</th>\n",
       "      <th>show_id</th>\n",
       "      <th>type</th>\n",
       "      <th>title</th>\n",
       "      <th>director</th>\n",
       "      <th>cast</th>\n",
       "      <th>country</th>\n",
       "      <th>date_added</th>\n",
       "      <th>release_year</th>\n",
       "      <th>rating</th>\n",
       "      <th>duration</th>\n",
       "      <th>listed_in</th>\n",
       "      <th>description</th>\n",
       "      <th>platform</th>\n",
       "    </tr>\n",
       "  </thead>\n",
       "  <tbody>\n",
       "    <tr>\n",
       "      <th>0</th>\n",
       "      <td>as1</td>\n",
       "      <td>s1</td>\n",
       "      <td>Movie</td>\n",
       "      <td>The Grand Seduction</td>\n",
       "      <td>Don McKellar</td>\n",
       "      <td>Brendan Gleeson, Taylor Kitsch, Gordon Pinsent</td>\n",
       "      <td>Canada</td>\n",
       "      <td>March 30, 2021</td>\n",
       "      <td>2014</td>\n",
       "      <td>NaN</td>\n",
       "      <td>113 min</td>\n",
       "      <td>Comedy, Drama</td>\n",
       "      <td>A small fishing village must procure a local d...</td>\n",
       "      <td>amazon</td>\n",
       "    </tr>\n",
       "    <tr>\n",
       "      <th>1</th>\n",
       "      <td>as2</td>\n",
       "      <td>s2</td>\n",
       "      <td>Movie</td>\n",
       "      <td>Take Care Good Night</td>\n",
       "      <td>Girish Joshi</td>\n",
       "      <td>Mahesh Manjrekar, Abhay Mahajan, Sachin Khedekar</td>\n",
       "      <td>India</td>\n",
       "      <td>March 30, 2021</td>\n",
       "      <td>2018</td>\n",
       "      <td>G</td>\n",
       "      <td>110 min</td>\n",
       "      <td>Drama, International</td>\n",
       "      <td>A Metro Family decides to fight a Cyber Crimin...</td>\n",
       "      <td>amazon</td>\n",
       "    </tr>\n",
       "    <tr>\n",
       "      <th>2</th>\n",
       "      <td>as3</td>\n",
       "      <td>s3</td>\n",
       "      <td>Movie</td>\n",
       "      <td>Secrets of Deception</td>\n",
       "      <td>Josh Webber</td>\n",
       "      <td>Tom Sizemore, Lorenzo Lamas, Robert LaSardo, R...</td>\n",
       "      <td>United States</td>\n",
       "      <td>March 30, 2021</td>\n",
       "      <td>2017</td>\n",
       "      <td>NaN</td>\n",
       "      <td>74 min</td>\n",
       "      <td>Action, Drama, Suspense</td>\n",
       "      <td>After a man discovers his wife is cheating on ...</td>\n",
       "      <td>amazon</td>\n",
       "    </tr>\n",
       "  </tbody>\n",
       "</table>\n",
       "</div>"
      ],
      "text/plain": [
       "    id show_id   type                 title      director  \\\n",
       "0  as1      s1  Movie   The Grand Seduction  Don McKellar   \n",
       "1  as2      s2  Movie  Take Care Good Night  Girish Joshi   \n",
       "2  as3      s3  Movie  Secrets of Deception   Josh Webber   \n",
       "\n",
       "                                                cast        country  \\\n",
       "0     Brendan Gleeson, Taylor Kitsch, Gordon Pinsent         Canada   \n",
       "1   Mahesh Manjrekar, Abhay Mahajan, Sachin Khedekar          India   \n",
       "2  Tom Sizemore, Lorenzo Lamas, Robert LaSardo, R...  United States   \n",
       "\n",
       "       date_added  release_year rating duration                listed_in  \\\n",
       "0  March 30, 2021          2014    NaN  113 min            Comedy, Drama   \n",
       "1  March 30, 2021          2018      G  110 min     Drama, International   \n",
       "2  March 30, 2021          2017    NaN   74 min  Action, Drama, Suspense   \n",
       "\n",
       "                                         description platform  \n",
       "0  A small fishing village must procure a local d...   amazon  \n",
       "1  A Metro Family decides to fight a Cyber Crimin...   amazon  \n",
       "2  After a man discovers his wife is cheating on ...   amazon  "
      ]
     },
     "execution_count": 22,
     "metadata": {},
     "output_type": "execute_result"
    }
   ],
   "source": [
    "total_platform_df.head(3)"
   ]
  },
  {
   "cell_type": "code",
   "execution_count": 23,
   "metadata": {},
   "outputs": [
    {
     "name": "stdout",
     "output_type": "stream",
     "text": [
      "TOTAL: (22998, 14)\n",
      "SUM: 22998\n"
     ]
    }
   ],
   "source": [
    "#let's visualize the amount of registers of each platform and compare with the new DataFrame created\n",
    "print(f'TOTAL: {total_platform_df.shape}')\n",
    "print(f'SUM: {amazon_df.shape[0] + disney_df.shape[0] +hulu_df.shape[0] +netflix_df.shape[0] }')"
   ]
  },
  {
   "attachments": {},
   "cell_type": "markdown",
   "metadata": {},
   "source": [
    "3. De haber fechas, deberán tener el formato AAAA-mm-dd"
   ]
  },
  {
   "cell_type": "code",
   "execution_count": 24,
   "metadata": {},
   "outputs": [],
   "source": [
    "# removing blank spaces\n",
    "total_platform_df.date_added = total_platform_df.date_added.str.strip() \n",
    "# creating AAAA-mm-dd format\n",
    "total_platform_df.date_added = pd.to_datetime(total_platform_df.date_added, format='%B %d, %Y').dt.strftime('%Y-%m-%d')"
   ]
  },
  {
   "cell_type": "code",
   "execution_count": 25,
   "metadata": {},
   "outputs": [
    {
     "data": {
      "text/html": [
       "<div>\n",
       "<style scoped>\n",
       "    .dataframe tbody tr th:only-of-type {\n",
       "        vertical-align: middle;\n",
       "    }\n",
       "\n",
       "    .dataframe tbody tr th {\n",
       "        vertical-align: top;\n",
       "    }\n",
       "\n",
       "    .dataframe thead th {\n",
       "        text-align: right;\n",
       "    }\n",
       "</style>\n",
       "<table border=\"1\" class=\"dataframe\">\n",
       "  <thead>\n",
       "    <tr style=\"text-align: right;\">\n",
       "      <th></th>\n",
       "      <th>id</th>\n",
       "      <th>show_id</th>\n",
       "      <th>type</th>\n",
       "      <th>title</th>\n",
       "      <th>director</th>\n",
       "      <th>cast</th>\n",
       "      <th>country</th>\n",
       "      <th>date_added</th>\n",
       "      <th>release_year</th>\n",
       "      <th>rating</th>\n",
       "      <th>duration</th>\n",
       "      <th>listed_in</th>\n",
       "      <th>description</th>\n",
       "      <th>platform</th>\n",
       "    </tr>\n",
       "  </thead>\n",
       "  <tbody>\n",
       "    <tr>\n",
       "      <th>0</th>\n",
       "      <td>as1</td>\n",
       "      <td>s1</td>\n",
       "      <td>Movie</td>\n",
       "      <td>The Grand Seduction</td>\n",
       "      <td>Don McKellar</td>\n",
       "      <td>Brendan Gleeson, Taylor Kitsch, Gordon Pinsent</td>\n",
       "      <td>Canada</td>\n",
       "      <td>2021-03-30</td>\n",
       "      <td>2014</td>\n",
       "      <td>NaN</td>\n",
       "      <td>113 min</td>\n",
       "      <td>Comedy, Drama</td>\n",
       "      <td>A small fishing village must procure a local d...</td>\n",
       "      <td>amazon</td>\n",
       "    </tr>\n",
       "    <tr>\n",
       "      <th>1</th>\n",
       "      <td>as2</td>\n",
       "      <td>s2</td>\n",
       "      <td>Movie</td>\n",
       "      <td>Take Care Good Night</td>\n",
       "      <td>Girish Joshi</td>\n",
       "      <td>Mahesh Manjrekar, Abhay Mahajan, Sachin Khedekar</td>\n",
       "      <td>India</td>\n",
       "      <td>2021-03-30</td>\n",
       "      <td>2018</td>\n",
       "      <td>G</td>\n",
       "      <td>110 min</td>\n",
       "      <td>Drama, International</td>\n",
       "      <td>A Metro Family decides to fight a Cyber Crimin...</td>\n",
       "      <td>amazon</td>\n",
       "    </tr>\n",
       "    <tr>\n",
       "      <th>2</th>\n",
       "      <td>as3</td>\n",
       "      <td>s3</td>\n",
       "      <td>Movie</td>\n",
       "      <td>Secrets of Deception</td>\n",
       "      <td>Josh Webber</td>\n",
       "      <td>Tom Sizemore, Lorenzo Lamas, Robert LaSardo, R...</td>\n",
       "      <td>United States</td>\n",
       "      <td>2021-03-30</td>\n",
       "      <td>2017</td>\n",
       "      <td>NaN</td>\n",
       "      <td>74 min</td>\n",
       "      <td>Action, Drama, Suspense</td>\n",
       "      <td>After a man discovers his wife is cheating on ...</td>\n",
       "      <td>amazon</td>\n",
       "    </tr>\n",
       "  </tbody>\n",
       "</table>\n",
       "</div>"
      ],
      "text/plain": [
       "    id show_id   type                 title      director  \\\n",
       "0  as1      s1  Movie   The Grand Seduction  Don McKellar   \n",
       "1  as2      s2  Movie  Take Care Good Night  Girish Joshi   \n",
       "2  as3      s3  Movie  Secrets of Deception   Josh Webber   \n",
       "\n",
       "                                                cast        country  \\\n",
       "0     Brendan Gleeson, Taylor Kitsch, Gordon Pinsent         Canada   \n",
       "1   Mahesh Manjrekar, Abhay Mahajan, Sachin Khedekar          India   \n",
       "2  Tom Sizemore, Lorenzo Lamas, Robert LaSardo, R...  United States   \n",
       "\n",
       "   date_added  release_year rating duration                listed_in  \\\n",
       "0  2021-03-30          2014    NaN  113 min            Comedy, Drama   \n",
       "1  2021-03-30          2018      G  110 min     Drama, International   \n",
       "2  2021-03-30          2017    NaN   74 min  Action, Drama, Suspense   \n",
       "\n",
       "                                         description platform  \n",
       "0  A small fishing village must procure a local d...   amazon  \n",
       "1  A Metro Family decides to fight a Cyber Crimin...   amazon  \n",
       "2  After a man discovers his wife is cheating on ...   amazon  "
      ]
     },
     "execution_count": 25,
     "metadata": {},
     "output_type": "execute_result"
    }
   ],
   "source": [
    "total_platform_df.head(3)"
   ]
  },
  {
   "attachments": {},
   "cell_type": "markdown",
   "metadata": {},
   "source": [
    "4. Los campos de texto deberán estar en minúsculas, sin excepciones"
   ]
  },
  {
   "cell_type": "code",
   "execution_count": 26,
   "metadata": {},
   "outputs": [],
   "source": [
    "total_platform_df = total_platform_df.applymap(lambda x: x.lower() if isinstance(x, str) else x)"
   ]
  },
  {
   "cell_type": "code",
   "execution_count": 27,
   "metadata": {},
   "outputs": [
    {
     "data": {
      "text/html": [
       "<div>\n",
       "<style scoped>\n",
       "    .dataframe tbody tr th:only-of-type {\n",
       "        vertical-align: middle;\n",
       "    }\n",
       "\n",
       "    .dataframe tbody tr th {\n",
       "        vertical-align: top;\n",
       "    }\n",
       "\n",
       "    .dataframe thead th {\n",
       "        text-align: right;\n",
       "    }\n",
       "</style>\n",
       "<table border=\"1\" class=\"dataframe\">\n",
       "  <thead>\n",
       "    <tr style=\"text-align: right;\">\n",
       "      <th></th>\n",
       "      <th>id</th>\n",
       "      <th>show_id</th>\n",
       "      <th>type</th>\n",
       "      <th>title</th>\n",
       "      <th>director</th>\n",
       "      <th>cast</th>\n",
       "      <th>country</th>\n",
       "      <th>date_added</th>\n",
       "      <th>release_year</th>\n",
       "      <th>rating</th>\n",
       "      <th>duration</th>\n",
       "      <th>listed_in</th>\n",
       "      <th>description</th>\n",
       "      <th>platform</th>\n",
       "    </tr>\n",
       "  </thead>\n",
       "  <tbody>\n",
       "    <tr>\n",
       "      <th>0</th>\n",
       "      <td>as1</td>\n",
       "      <td>s1</td>\n",
       "      <td>movie</td>\n",
       "      <td>the grand seduction</td>\n",
       "      <td>don mckellar</td>\n",
       "      <td>brendan gleeson, taylor kitsch, gordon pinsent</td>\n",
       "      <td>canada</td>\n",
       "      <td>2021-03-30</td>\n",
       "      <td>2014</td>\n",
       "      <td>NaN</td>\n",
       "      <td>113 min</td>\n",
       "      <td>comedy, drama</td>\n",
       "      <td>a small fishing village must procure a local d...</td>\n",
       "      <td>amazon</td>\n",
       "    </tr>\n",
       "    <tr>\n",
       "      <th>1</th>\n",
       "      <td>as2</td>\n",
       "      <td>s2</td>\n",
       "      <td>movie</td>\n",
       "      <td>take care good night</td>\n",
       "      <td>girish joshi</td>\n",
       "      <td>mahesh manjrekar, abhay mahajan, sachin khedekar</td>\n",
       "      <td>india</td>\n",
       "      <td>2021-03-30</td>\n",
       "      <td>2018</td>\n",
       "      <td>g</td>\n",
       "      <td>110 min</td>\n",
       "      <td>drama, international</td>\n",
       "      <td>a metro family decides to fight a cyber crimin...</td>\n",
       "      <td>amazon</td>\n",
       "    </tr>\n",
       "    <tr>\n",
       "      <th>2</th>\n",
       "      <td>as3</td>\n",
       "      <td>s3</td>\n",
       "      <td>movie</td>\n",
       "      <td>secrets of deception</td>\n",
       "      <td>josh webber</td>\n",
       "      <td>tom sizemore, lorenzo lamas, robert lasardo, r...</td>\n",
       "      <td>united states</td>\n",
       "      <td>2021-03-30</td>\n",
       "      <td>2017</td>\n",
       "      <td>NaN</td>\n",
       "      <td>74 min</td>\n",
       "      <td>action, drama, suspense</td>\n",
       "      <td>after a man discovers his wife is cheating on ...</td>\n",
       "      <td>amazon</td>\n",
       "    </tr>\n",
       "    <tr>\n",
       "      <th>3</th>\n",
       "      <td>as4</td>\n",
       "      <td>s4</td>\n",
       "      <td>movie</td>\n",
       "      <td>pink: staying true</td>\n",
       "      <td>sonia anderson</td>\n",
       "      <td>interviews with: pink, adele, beyoncé, britney...</td>\n",
       "      <td>united states</td>\n",
       "      <td>2021-03-30</td>\n",
       "      <td>2014</td>\n",
       "      <td>NaN</td>\n",
       "      <td>69 min</td>\n",
       "      <td>documentary</td>\n",
       "      <td>pink breaks the mold once again, bringing her ...</td>\n",
       "      <td>amazon</td>\n",
       "    </tr>\n",
       "    <tr>\n",
       "      <th>4</th>\n",
       "      <td>as5</td>\n",
       "      <td>s5</td>\n",
       "      <td>movie</td>\n",
       "      <td>monster maker</td>\n",
       "      <td>giles foster</td>\n",
       "      <td>harry dean stanton, kieran o'brien, george cos...</td>\n",
       "      <td>united kingdom</td>\n",
       "      <td>2021-03-30</td>\n",
       "      <td>1989</td>\n",
       "      <td>NaN</td>\n",
       "      <td>45 min</td>\n",
       "      <td>drama, fantasy</td>\n",
       "      <td>teenage matt banting wants to work with a famo...</td>\n",
       "      <td>amazon</td>\n",
       "    </tr>\n",
       "  </tbody>\n",
       "</table>\n",
       "</div>"
      ],
      "text/plain": [
       "    id show_id   type                 title        director  \\\n",
       "0  as1      s1  movie   the grand seduction    don mckellar   \n",
       "1  as2      s2  movie  take care good night    girish joshi   \n",
       "2  as3      s3  movie  secrets of deception     josh webber   \n",
       "3  as4      s4  movie    pink: staying true  sonia anderson   \n",
       "4  as5      s5  movie         monster maker    giles foster   \n",
       "\n",
       "                                                cast         country  \\\n",
       "0     brendan gleeson, taylor kitsch, gordon pinsent          canada   \n",
       "1   mahesh manjrekar, abhay mahajan, sachin khedekar           india   \n",
       "2  tom sizemore, lorenzo lamas, robert lasardo, r...   united states   \n",
       "3  interviews with: pink, adele, beyoncé, britney...   united states   \n",
       "4  harry dean stanton, kieran o'brien, george cos...  united kingdom   \n",
       "\n",
       "   date_added  release_year rating duration                listed_in  \\\n",
       "0  2021-03-30          2014    NaN  113 min            comedy, drama   \n",
       "1  2021-03-30          2018      g  110 min     drama, international   \n",
       "2  2021-03-30          2017    NaN   74 min  action, drama, suspense   \n",
       "3  2021-03-30          2014    NaN   69 min              documentary   \n",
       "4  2021-03-30          1989    NaN   45 min           drama, fantasy   \n",
       "\n",
       "                                         description platform  \n",
       "0  a small fishing village must procure a local d...   amazon  \n",
       "1  a metro family decides to fight a cyber crimin...   amazon  \n",
       "2  after a man discovers his wife is cheating on ...   amazon  \n",
       "3  pink breaks the mold once again, bringing her ...   amazon  \n",
       "4  teenage matt banting wants to work with a famo...   amazon  "
      ]
     },
     "execution_count": 27,
     "metadata": {},
     "output_type": "execute_result"
    }
   ],
   "source": [
    "total_platform_df.head()"
   ]
  },
  {
   "attachments": {},
   "cell_type": "markdown",
   "metadata": {},
   "source": [
    "5. El campo duration debe convertirse en dos campos: duration_int y duration_type. El primero será un integer y el segundo un string indicando la unidad de medición de duración: min (minutos) o season (temporadas)"
   ]
  },
  {
   "cell_type": "code",
   "execution_count": 28,
   "metadata": {},
   "outputs": [
    {
     "data": {
      "text/html": [
       "<div>\n",
       "<style scoped>\n",
       "    .dataframe tbody tr th:only-of-type {\n",
       "        vertical-align: middle;\n",
       "    }\n",
       "\n",
       "    .dataframe tbody tr th {\n",
       "        vertical-align: top;\n",
       "    }\n",
       "\n",
       "    .dataframe thead th {\n",
       "        text-align: right;\n",
       "    }\n",
       "</style>\n",
       "<table border=\"1\" class=\"dataframe\">\n",
       "  <thead>\n",
       "    <tr style=\"text-align: right;\">\n",
       "      <th></th>\n",
       "      <th>id</th>\n",
       "      <th>show_id</th>\n",
       "      <th>type</th>\n",
       "      <th>title</th>\n",
       "      <th>director</th>\n",
       "      <th>cast</th>\n",
       "      <th>country</th>\n",
       "      <th>date_added</th>\n",
       "      <th>release_year</th>\n",
       "      <th>rating</th>\n",
       "      <th>duration</th>\n",
       "      <th>listed_in</th>\n",
       "      <th>description</th>\n",
       "      <th>platform</th>\n",
       "    </tr>\n",
       "  </thead>\n",
       "  <tbody>\n",
       "    <tr>\n",
       "      <th>0</th>\n",
       "      <td>as1</td>\n",
       "      <td>s1</td>\n",
       "      <td>movie</td>\n",
       "      <td>the grand seduction</td>\n",
       "      <td>don mckellar</td>\n",
       "      <td>brendan gleeson, taylor kitsch, gordon pinsent</td>\n",
       "      <td>canada</td>\n",
       "      <td>2021-03-30</td>\n",
       "      <td>2014</td>\n",
       "      <td>NaN</td>\n",
       "      <td>113 min</td>\n",
       "      <td>comedy, drama</td>\n",
       "      <td>a small fishing village must procure a local d...</td>\n",
       "      <td>amazon</td>\n",
       "    </tr>\n",
       "    <tr>\n",
       "      <th>1</th>\n",
       "      <td>as2</td>\n",
       "      <td>s2</td>\n",
       "      <td>movie</td>\n",
       "      <td>take care good night</td>\n",
       "      <td>girish joshi</td>\n",
       "      <td>mahesh manjrekar, abhay mahajan, sachin khedekar</td>\n",
       "      <td>india</td>\n",
       "      <td>2021-03-30</td>\n",
       "      <td>2018</td>\n",
       "      <td>g</td>\n",
       "      <td>110 min</td>\n",
       "      <td>drama, international</td>\n",
       "      <td>a metro family decides to fight a cyber crimin...</td>\n",
       "      <td>amazon</td>\n",
       "    </tr>\n",
       "    <tr>\n",
       "      <th>2</th>\n",
       "      <td>as3</td>\n",
       "      <td>s3</td>\n",
       "      <td>movie</td>\n",
       "      <td>secrets of deception</td>\n",
       "      <td>josh webber</td>\n",
       "      <td>tom sizemore, lorenzo lamas, robert lasardo, r...</td>\n",
       "      <td>united states</td>\n",
       "      <td>2021-03-30</td>\n",
       "      <td>2017</td>\n",
       "      <td>NaN</td>\n",
       "      <td>74 min</td>\n",
       "      <td>action, drama, suspense</td>\n",
       "      <td>after a man discovers his wife is cheating on ...</td>\n",
       "      <td>amazon</td>\n",
       "    </tr>\n",
       "    <tr>\n",
       "      <th>3</th>\n",
       "      <td>as4</td>\n",
       "      <td>s4</td>\n",
       "      <td>movie</td>\n",
       "      <td>pink: staying true</td>\n",
       "      <td>sonia anderson</td>\n",
       "      <td>interviews with: pink, adele, beyoncé, britney...</td>\n",
       "      <td>united states</td>\n",
       "      <td>2021-03-30</td>\n",
       "      <td>2014</td>\n",
       "      <td>NaN</td>\n",
       "      <td>69 min</td>\n",
       "      <td>documentary</td>\n",
       "      <td>pink breaks the mold once again, bringing her ...</td>\n",
       "      <td>amazon</td>\n",
       "    </tr>\n",
       "    <tr>\n",
       "      <th>4</th>\n",
       "      <td>as5</td>\n",
       "      <td>s5</td>\n",
       "      <td>movie</td>\n",
       "      <td>monster maker</td>\n",
       "      <td>giles foster</td>\n",
       "      <td>harry dean stanton, kieran o'brien, george cos...</td>\n",
       "      <td>united kingdom</td>\n",
       "      <td>2021-03-30</td>\n",
       "      <td>1989</td>\n",
       "      <td>NaN</td>\n",
       "      <td>45 min</td>\n",
       "      <td>drama, fantasy</td>\n",
       "      <td>teenage matt banting wants to work with a famo...</td>\n",
       "      <td>amazon</td>\n",
       "    </tr>\n",
       "  </tbody>\n",
       "</table>\n",
       "</div>"
      ],
      "text/plain": [
       "    id show_id   type                 title        director  \\\n",
       "0  as1      s1  movie   the grand seduction    don mckellar   \n",
       "1  as2      s2  movie  take care good night    girish joshi   \n",
       "2  as3      s3  movie  secrets of deception     josh webber   \n",
       "3  as4      s4  movie    pink: staying true  sonia anderson   \n",
       "4  as5      s5  movie         monster maker    giles foster   \n",
       "\n",
       "                                                cast         country  \\\n",
       "0     brendan gleeson, taylor kitsch, gordon pinsent          canada   \n",
       "1   mahesh manjrekar, abhay mahajan, sachin khedekar           india   \n",
       "2  tom sizemore, lorenzo lamas, robert lasardo, r...   united states   \n",
       "3  interviews with: pink, adele, beyoncé, britney...   united states   \n",
       "4  harry dean stanton, kieran o'brien, george cos...  united kingdom   \n",
       "\n",
       "   date_added  release_year rating duration                listed_in  \\\n",
       "0  2021-03-30          2014    NaN  113 min            comedy, drama   \n",
       "1  2021-03-30          2018      g  110 min     drama, international   \n",
       "2  2021-03-30          2017    NaN   74 min  action, drama, suspense   \n",
       "3  2021-03-30          2014    NaN   69 min              documentary   \n",
       "4  2021-03-30          1989    NaN   45 min           drama, fantasy   \n",
       "\n",
       "                                         description platform  \n",
       "0  a small fishing village must procure a local d...   amazon  \n",
       "1  a metro family decides to fight a cyber crimin...   amazon  \n",
       "2  after a man discovers his wife is cheating on ...   amazon  \n",
       "3  pink breaks the mold once again, bringing her ...   amazon  \n",
       "4  teenage matt banting wants to work with a famo...   amazon  "
      ]
     },
     "execution_count": 28,
     "metadata": {},
     "output_type": "execute_result"
    }
   ],
   "source": [
    "total_platform_df.head()"
   ]
  },
  {
   "cell_type": "code",
   "execution_count": 29,
   "metadata": {},
   "outputs": [],
   "source": [
    "#split 'duration' column into 'duration_int' and 'duration_type'\n",
    "total_platform_df[['duration_int', 'duration_type']] = total_platform_df['duration'].str.split(' ', expand=True)\n",
    "#turn nan values into 0 in order to be able to change duration type to integer\n",
    "total_platform_df.duration_int.fillna(0, inplace=True)\n",
    "# changing duration_int type to integer\n",
    "total_platform_df.duration_int = total_platform_df.duration_int.astype(int)\n",
    "# drop duration column\n",
    "total_platform_df.drop('duration',axis=1, inplace=True)"
   ]
  },
  {
   "cell_type": "code",
   "execution_count": 30,
   "metadata": {},
   "outputs": [
    {
     "data": {
      "text/plain": [
       "min        16232\n",
       "season      4225\n",
       "seasons     2354\n",
       "Name: duration_type, dtype: int64"
      ]
     },
     "execution_count": 30,
     "metadata": {},
     "output_type": "execute_result"
    }
   ],
   "source": [
    "#looking through duration_type values.\n",
    "total_platform_df.duration_type.value_counts()"
   ]
  },
  {
   "cell_type": "code",
   "execution_count": 31,
   "metadata": {},
   "outputs": [
    {
     "name": "stderr",
     "output_type": "stream",
     "text": [
      "C:\\Users\\Hp\\AppData\\Local\\Temp\\ipykernel_21256\\3743691533.py:2: SettingWithCopyWarning: \n",
      "A value is trying to be set on a copy of a slice from a DataFrame\n",
      "\n",
      "See the caveats in the documentation: https://pandas.pydata.org/pandas-docs/stable/user_guide/indexing.html#returning-a-view-versus-a-copy\n",
      "  total_platform_df.duration_type[total_platform_df.duration_type=='seasons'] = 'season'\n"
     ]
    }
   ],
   "source": [
    "#replacing seasons by season\n",
    "total_platform_df.duration_type[total_platform_df.duration_type=='seasons'] = 'season'"
   ]
  },
  {
   "cell_type": "code",
   "execution_count": 32,
   "metadata": {},
   "outputs": [
    {
     "data": {
      "text/plain": [
       "min       16232\n",
       "season     6579\n",
       "Name: duration_type, dtype: int64"
      ]
     },
     "execution_count": 32,
     "metadata": {},
     "output_type": "execute_result"
    }
   ],
   "source": [
    "total_platform_df.duration_type.value_counts()"
   ]
  },
  {
   "cell_type": "code",
   "execution_count": 33,
   "metadata": {},
   "outputs": [
    {
     "data": {
      "text/plain": [
       "id                   0\n",
       "show_id              0\n",
       "type                 0\n",
       "title                0\n",
       "director          8259\n",
       "cast              5321\n",
       "country          11499\n",
       "date_added        9554\n",
       "release_year         0\n",
       "rating             864\n",
       "listed_in            0\n",
       "description          4\n",
       "platform             0\n",
       "duration_int         0\n",
       "duration_type      187\n",
       "dtype: int64"
      ]
     },
     "execution_count": 33,
     "metadata": {},
     "output_type": "execute_result"
    }
   ],
   "source": [
    "# check nulls out\n",
    "total_platform_df.isnull().sum()"
   ]
  },
  {
   "cell_type": "code",
   "execution_count": 34,
   "metadata": {},
   "outputs": [
    {
     "name": "stderr",
     "output_type": "stream",
     "text": [
      "C:\\Users\\Hp\\AppData\\Local\\Temp\\ipykernel_21256\\3106653062.py:3: SettingWithCopyWarning: \n",
      "A value is trying to be set on a copy of a slice from a DataFrame\n",
      "\n",
      "See the caveats in the documentation: https://pandas.pydata.org/pandas-docs/stable/user_guide/indexing.html#returning-a-view-versus-a-copy\n",
      "  total_platform_df.rating[total_platform_df.rating == 'no data'] = 'not rated'\n"
     ]
    }
   ],
   "source": [
    "# nulls from rating will be replaced by 'not rated' and the other ones will be replace by 'no data'\n",
    "total_platform_df.fillna('no data', inplace=True)\n",
    "total_platform_df.rating[total_platform_df.rating == 'no data'] = 'not rated'"
   ]
  },
  {
   "cell_type": "code",
   "execution_count": 35,
   "metadata": {},
   "outputs": [
    {
     "data": {
      "text/plain": [
       "id               0\n",
       "show_id          0\n",
       "type             0\n",
       "title            0\n",
       "director         0\n",
       "cast             0\n",
       "country          0\n",
       "date_added       0\n",
       "release_year     0\n",
       "rating           0\n",
       "listed_in        0\n",
       "description      0\n",
       "platform         0\n",
       "duration_int     0\n",
       "duration_type    0\n",
       "dtype: int64"
      ]
     },
     "execution_count": 35,
     "metadata": {},
     "output_type": "execute_result"
    }
   ],
   "source": [
    "# Now we already do not have nulls.\n",
    "total_platform_df.isnull().sum()"
   ]
  },
  {
   "cell_type": "code",
   "execution_count": 36,
   "metadata": {},
   "outputs": [],
   "source": [
    "#delete show id \n",
    "total_platform_df.drop(columns=['show_id'],axis=1,inplace=True)"
   ]
  },
  {
   "cell_type": "code",
   "execution_count": 37,
   "metadata": {},
   "outputs": [
    {
     "data": {
      "text/plain": [
       "(22998, 14)"
      ]
     },
     "execution_count": 37,
     "metadata": {},
     "output_type": "execute_result"
    }
   ],
   "source": [
    "# checking out the amount of data\n",
    "total_platform_df.shape"
   ]
  },
  {
   "attachments": {},
   "cell_type": "markdown",
   "metadata": {},
   "source": [
    "**Working on the rating file**"
   ]
  },
  {
   "cell_type": "code",
   "execution_count": 38,
   "metadata": {},
   "outputs": [],
   "source": [
    "#loading data\n",
    "df_1 = pd.read_parquet('datasets/ratings/1.parquet')\n",
    "df_2 = pd.read_parquet('datasets/ratings/2.parquet')\n",
    "df_3 = pd.read_parquet('datasets/ratings/3.parquet')\n",
    "df_4 = pd.read_parquet('datasets/ratings/4.parquet')\n",
    "df_5 = pd.read_parquet('datasets/ratings/5.parquet')\n",
    "df_6 = pd.read_parquet('datasets/ratings/6.parquet')\n",
    "df_7 = pd.read_parquet('datasets/ratings/7.parquet')\n",
    "df_8 = pd.read_parquet('datasets/ratings/8.parquet')    "
   ]
  },
  {
   "cell_type": "code",
   "execution_count": 39,
   "metadata": {},
   "outputs": [
    {
     "data": {
      "text/html": [
       "<div>\n",
       "<style scoped>\n",
       "    .dataframe tbody tr th:only-of-type {\n",
       "        vertical-align: middle;\n",
       "    }\n",
       "\n",
       "    .dataframe tbody tr th {\n",
       "        vertical-align: top;\n",
       "    }\n",
       "\n",
       "    .dataframe thead th {\n",
       "        text-align: right;\n",
       "    }\n",
       "</style>\n",
       "<table border=\"1\" class=\"dataframe\">\n",
       "  <thead>\n",
       "    <tr style=\"text-align: right;\">\n",
       "      <th></th>\n",
       "      <th>userId</th>\n",
       "      <th>rating</th>\n",
       "      <th>timestamp</th>\n",
       "      <th>movieId</th>\n",
       "    </tr>\n",
       "  </thead>\n",
       "  <tbody>\n",
       "    <tr>\n",
       "      <th>0</th>\n",
       "      <td>108422</td>\n",
       "      <td>4.5</td>\n",
       "      <td>1350689762</td>\n",
       "      <td>as1399</td>\n",
       "    </tr>\n",
       "    <tr>\n",
       "      <th>1</th>\n",
       "      <td>108422</td>\n",
       "      <td>4.0</td>\n",
       "      <td>1350341401</td>\n",
       "      <td>as6724</td>\n",
       "    </tr>\n",
       "    <tr>\n",
       "      <th>2</th>\n",
       "      <td>108422</td>\n",
       "      <td>5.0</td>\n",
       "      <td>1350689691</td>\n",
       "      <td>ns512</td>\n",
       "    </tr>\n",
       "    <tr>\n",
       "      <th>3</th>\n",
       "      <td>108422</td>\n",
       "      <td>4.5</td>\n",
       "      <td>1350341088</td>\n",
       "      <td>ns7444</td>\n",
       "    </tr>\n",
       "    <tr>\n",
       "      <th>4</th>\n",
       "      <td>108422</td>\n",
       "      <td>4.5</td>\n",
       "      <td>1350689619</td>\n",
       "      <td>as2230</td>\n",
       "    </tr>\n",
       "  </tbody>\n",
       "</table>\n",
       "</div>"
      ],
      "text/plain": [
       "   userId  rating   timestamp movieId\n",
       "0  108422     4.5  1350689762  as1399\n",
       "1  108422     4.0  1350341401  as6724\n",
       "2  108422     5.0  1350689691   ns512\n",
       "3  108422     4.5  1350341088  ns7444\n",
       "4  108422     4.5  1350689619  as2230"
      ]
     },
     "execution_count": 39,
     "metadata": {},
     "output_type": "execute_result"
    }
   ],
   "source": [
    "#checking some data out\n",
    "df_8.head()"
   ]
  },
  {
   "cell_type": "code",
   "execution_count": 40,
   "metadata": {},
   "outputs": [
    {
     "name": "stdout",
     "output_type": "stream",
     "text": [
      "11024289\n",
      "(11024289, 4)\n"
     ]
    }
   ],
   "source": [
    "#joining data using concat function\n",
    "list_df = [df_1,df_2,df_3,df_4,df_5,df_6,df_7,df_8]\n",
    "df_ratings = pd.concat(list_df,ignore_index=True)\n",
    "#making sure data is complete\n",
    "print(df_1.shape[0]+df_2.shape[0]+df_3.shape[0]+df_4.shape[0]+df_5.shape[0]+df_6.shape[0]+df_7.shape[0]+df_8.shape[0])\n",
    "print(df_ratings.shape)\n"
   ]
  },
  {
   "cell_type": "code",
   "execution_count": 41,
   "metadata": {},
   "outputs": [
    {
     "data": {
      "text/plain": [
       "Index(['userId', 'rating', 'timestamp', 'movieId'], dtype='object')"
      ]
     },
     "execution_count": 41,
     "metadata": {},
     "output_type": "execute_result"
    }
   ],
   "source": [
    "#checking columns out\n",
    "df_ratings.columns"
   ]
  },
  {
   "cell_type": "code",
   "execution_count": 42,
   "metadata": {},
   "outputs": [
    {
     "data": {
      "text/plain": [
       "Index(['userId', 'score', 'timestamp', 'id'], dtype='object')"
      ]
     },
     "execution_count": 42,
     "metadata": {},
     "output_type": "execute_result"
    }
   ],
   "source": [
    "#let's turn rating  and movieId columns into score and id, respectively.\n",
    "df_ratings.rename(columns={'rating':'score','movieId':'id'}, inplace=True)\n",
    "df_ratings.columns"
   ]
  },
  {
   "cell_type": "code",
   "execution_count": 43,
   "metadata": {},
   "outputs": [
    {
     "data": {
      "text/plain": [
       "id\n",
       "as1       3.467131\n",
       "as10      3.439571\n",
       "as100     3.609302\n",
       "as1000    3.556701\n",
       "as1001    3.585288\n",
       "Name: score, dtype: float64"
      ]
     },
     "execution_count": 43,
     "metadata": {},
     "output_type": "execute_result"
    }
   ],
   "source": [
    "#computing mean score by id using groupby\n",
    "score_mean= df_ratings.groupby('id')['score'].mean()\n",
    "score_mean.head()"
   ]
  },
  {
   "cell_type": "code",
   "execution_count": 44,
   "metadata": {},
   "outputs": [
    {
     "data": {
      "text/plain": [
       "Index(['id', 'type', 'title', 'director', 'cast', 'country', 'date_added',\n",
       "       'release_year', 'rating', 'listed_in', 'description', 'platform',\n",
       "       'duration_int', 'duration_type', 'score'],\n",
       "      dtype='object')"
      ]
     },
     "execution_count": 44,
     "metadata": {},
     "output_type": "execute_result"
    }
   ],
   "source": [
    "#joining score_mean and total_platform_df  by  id using merge function\n",
    "total_platform_df = total_platform_df.merge(score_mean, left_on='id', right_on='id')\n",
    "total_platform_df.columns"
   ]
  },
  {
   "cell_type": "code",
   "execution_count": 45,
   "metadata": {},
   "outputs": [],
   "source": [
    "#rounding to two decimal places score column\n",
    "total_platform_df.score = total_platform_df.score.round(2)"
   ]
  },
  {
   "cell_type": "code",
   "execution_count": 46,
   "metadata": {},
   "outputs": [
    {
     "data": {
      "text/html": [
       "<div>\n",
       "<style scoped>\n",
       "    .dataframe tbody tr th:only-of-type {\n",
       "        vertical-align: middle;\n",
       "    }\n",
       "\n",
       "    .dataframe tbody tr th {\n",
       "        vertical-align: top;\n",
       "    }\n",
       "\n",
       "    .dataframe thead th {\n",
       "        text-align: right;\n",
       "    }\n",
       "</style>\n",
       "<table border=\"1\" class=\"dataframe\">\n",
       "  <thead>\n",
       "    <tr style=\"text-align: right;\">\n",
       "      <th></th>\n",
       "      <th>id</th>\n",
       "      <th>type</th>\n",
       "      <th>title</th>\n",
       "      <th>director</th>\n",
       "      <th>cast</th>\n",
       "      <th>country</th>\n",
       "      <th>date_added</th>\n",
       "      <th>release_year</th>\n",
       "      <th>rating</th>\n",
       "      <th>listed_in</th>\n",
       "      <th>description</th>\n",
       "      <th>platform</th>\n",
       "      <th>duration_int</th>\n",
       "      <th>duration_type</th>\n",
       "      <th>score</th>\n",
       "    </tr>\n",
       "  </thead>\n",
       "  <tbody>\n",
       "    <tr>\n",
       "      <th>0</th>\n",
       "      <td>as1</td>\n",
       "      <td>movie</td>\n",
       "      <td>the grand seduction</td>\n",
       "      <td>don mckellar</td>\n",
       "      <td>brendan gleeson, taylor kitsch, gordon pinsent</td>\n",
       "      <td>canada</td>\n",
       "      <td>2021-03-30</td>\n",
       "      <td>2014</td>\n",
       "      <td>not rated</td>\n",
       "      <td>comedy, drama</td>\n",
       "      <td>a small fishing village must procure a local d...</td>\n",
       "      <td>amazon</td>\n",
       "      <td>113</td>\n",
       "      <td>min</td>\n",
       "      <td>3.47</td>\n",
       "    </tr>\n",
       "    <tr>\n",
       "      <th>1</th>\n",
       "      <td>as2</td>\n",
       "      <td>movie</td>\n",
       "      <td>take care good night</td>\n",
       "      <td>girish joshi</td>\n",
       "      <td>mahesh manjrekar, abhay mahajan, sachin khedekar</td>\n",
       "      <td>india</td>\n",
       "      <td>2021-03-30</td>\n",
       "      <td>2018</td>\n",
       "      <td>g</td>\n",
       "      <td>drama, international</td>\n",
       "      <td>a metro family decides to fight a cyber crimin...</td>\n",
       "      <td>amazon</td>\n",
       "      <td>110</td>\n",
       "      <td>min</td>\n",
       "      <td>3.55</td>\n",
       "    </tr>\n",
       "  </tbody>\n",
       "</table>\n",
       "</div>"
      ],
      "text/plain": [
       "    id   type                 title      director  \\\n",
       "0  as1  movie   the grand seduction  don mckellar   \n",
       "1  as2  movie  take care good night  girish joshi   \n",
       "\n",
       "                                               cast country  date_added  \\\n",
       "0    brendan gleeson, taylor kitsch, gordon pinsent  canada  2021-03-30   \n",
       "1  mahesh manjrekar, abhay mahajan, sachin khedekar   india  2021-03-30   \n",
       "\n",
       "   release_year     rating             listed_in  \\\n",
       "0          2014  not rated         comedy, drama   \n",
       "1          2018          g  drama, international   \n",
       "\n",
       "                                         description platform  duration_int  \\\n",
       "0  a small fishing village must procure a local d...   amazon           113   \n",
       "1  a metro family decides to fight a cyber crimin...   amazon           110   \n",
       "\n",
       "  duration_type  score  \n",
       "0           min   3.47  \n",
       "1           min   3.55  "
      ]
     },
     "execution_count": 46,
     "metadata": {},
     "output_type": "execute_result"
    }
   ],
   "source": [
    "total_platform_df.head(2)"
   ]
  },
  {
   "cell_type": "code",
   "execution_count": 47,
   "metadata": {},
   "outputs": [],
   "source": [
    "#loading data to a parquet file\n",
    "total_platform_df.to_parquet('datasets/total_Platforms.parquet')"
   ]
  }
 ],
 "metadata": {
  "kernelspec": {
   "display_name": "Python 3",
   "language": "python",
   "name": "python3"
  },
  "language_info": {
   "codemirror_mode": {
    "name": "ipython",
    "version": 3
   },
   "file_extension": ".py",
   "mimetype": "text/x-python",
   "name": "python",
   "nbconvert_exporter": "python",
   "pygments_lexer": "ipython3",
   "version": "3.10.6"
  },
  "orig_nbformat": 4
 },
 "nbformat": 4,
 "nbformat_minor": 2
}
